{
 "cells": [
  {
   "cell_type": "code",
   "execution_count": 4,
   "metadata": {},
   "outputs": [
    {
     "name": "stdout",
     "output_type": "stream",
     "text": [
      "../../miniconda3/envs/dspy_env/lib/python3.12/site-packages/pymupdf/__init__.py:104:exception_info: exception_info:\n",
      "../../miniconda3/envs/dspy_env/lib/python3.12/site-packages/pymupdf/__init__.py:105:exception_info: Traceback (most recent call last):\n",
      "  File \"/home/trent/miniconda3/envs/dspy_env/lib/python3.12/site-packages/pymupdf/utils.py\", line 3625, in insert_text\n",
      "    maxcode = max([ord(c) for c in \" \".join(text)])\n",
      "              ^^^^^^^^^^^^^^^^^^^^^^^^^^^^^^^^^^^^^\n",
      "ValueError: max() iterable argument is empty\n",
      "\n",
      "Individual PDFs are saved in ./pdfs\n",
      "Merged PDF is saved as ./merged.pdf\n"
     ]
    }
   ],
   "source": [
    "import os\n",
    "import fitz  # PyMuPDF\n",
    "from git import Repo\n",
    "from PyPDF2 import PdfMerger\n",
    "import mimetypes\n",
    "\n",
    "# Step 1: Clone the GitHub repository# Replace with your repo URL\n",
    "repo_dir = './'\n",
    "if not os.path.exists(repo_dir):\n",
    "    Repo.clone_from(repo_url, repo_dir)\n",
    "\n",
    "# Step 2: Convert text files to PDFs\n",
    "def convert_to_pdf(input_file, output_file):\n",
    "    with open(input_file, 'r', encoding='utf-8') as file:\n",
    "        text = file.read()\n",
    "\n",
    "    doc = fitz.open()\n",
    "    page = doc.new_page()\n",
    "    page.insert_text((72, 72), text, fontsize=12)\n",
    "    doc.save(output_file)\n",
    "\n",
    "def is_text_file(file_path):\n",
    "    mime_type, _ = mimetypes.guess_type(file_path)\n",
    "    if mime_type is None:\n",
    "        return False\n",
    "    return mime_type.startswith('text') or mime_type == 'application/json'\n",
    "\n",
    "pdf_dir = './pdfs'\n",
    "os.makedirs(pdf_dir, exist_ok=True)\n",
    "\n",
    "pdf_files = []\n",
    "for root, _, files in os.walk(repo_dir):\n",
    "    for file in files:\n",
    "        file_path = os.path.join(root, file)\n",
    "        if is_text_file(file_path):\n",
    "            output_file = os.path.join(pdf_dir, f'{os.path.splitext(file)[0]}.pdf')\n",
    "            convert_to_pdf(file_path, output_file)\n",
    "            pdf_files.append(output_file)\n",
    "\n",
    "# Step 3: Merge PDFs into a single PDF\n",
    "merged_pdf_path = './merged.pdf'\n",
    "merger = PdfMerger()\n",
    "\n",
    "for pdf_file in pdf_files:\n",
    "    merger.append(pdf_file)\n",
    "\n",
    "merger.write(merged_pdf_path)\n",
    "merger.close()\n",
    "\n",
    "print(f'Individual PDFs are saved in {pdf_dir}')\n",
    "print(f'Merged PDF is saved as {merged_pdf_path}')\n"
   ]
  }
 ],
 "metadata": {
  "kernelspec": {
   "display_name": "dspy_env",
   "language": "python",
   "name": "python3"
  },
  "language_info": {
   "codemirror_mode": {
    "name": "ipython",
    "version": 3
   },
   "file_extension": ".py",
   "mimetype": "text/x-python",
   "name": "python",
   "nbconvert_exporter": "python",
   "pygments_lexer": "ipython3",
   "version": "3.12.4"
  }
 },
 "nbformat": 4,
 "nbformat_minor": 2
}
